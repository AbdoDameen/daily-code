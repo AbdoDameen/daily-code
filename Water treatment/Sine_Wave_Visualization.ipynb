{
  "nbformat": 4,
  "nbformat_minor": 5,
  "metadata": {
    "noteable-chatgpt": {
      "create_notebook": {
        "openai_conversation_id": "1ccbc909-ded7-5a9f-8714-bfd0c6846276",
        "openai_ephemeral_user_id": "843797ca-f9b1-5e38-bdab-12600f4cff51",
        "openai_subdivision1_iso_code": "AU-NSW"
      }
    },
    "noteable": {
      "last_transaction_id": "03bb4645-bd39-4491-9987-d2b866e5ad05"
    },
    "selected_hardware_size": "small"
  },
  "cells": [
    {
      "id": "4e4c5e64-af12-4b9e-beee-b431de763ce2",
      "cell_type": "code",
      "metadata": {
        "jupyter": {
          "outputs_hidden": false,
          "source_hidden": false
        },
        "noteable": {
          "cell_type": "code"
        }
      },
      "execution_count": null,
      "source": "",
      "outputs": []
    },
    {
      "id": "84b4039e-ad96-4080-8f82-2b3d9f921c17",
      "cell_type": "code",
      "metadata": {
        "jupyter": {
          "outputs_hidden": false,
          "source_hidden": false
        },
        "noteable": {
          "cell_type": "code",
          "output_collection_id": "e727c182-410b-497e-8008-6c0f25440f65"
        },
        "ExecuteTime": {
          "end_time": "2023-06-02T01:42:06.127447+00:00",
          "start_time": "2023-06-02T01:42:05.544774+00:00"
        }
      },
      "execution_count": null,
      "source": "import numpy as np\nimport matplotlib.pyplot as plt\n\ndef display_sine_wave(frequency=1, amplitude=1, phase=0, duration=1, sample_rate=1000):\n    \"\"\"\n    Function to generate and display a sine wave.\n\n    Parameters:\n    - frequency: the frequency of the sine wave\n    - amplitude: the amplitude of the sine wave\n    - phase: the phase of the sine wave\n    - duration: the duration of the sine wave in seconds\n    - sample_rate: the number of samples per second\n    \"\"\"\n    # Generate the time values\n    t = np.linspace(0, duration, int(sample_rate * duration), False)\n\n    # Generate the sine wave\n    sine_wave = amplitude * np.sin(2 * np.pi * frequency * t + phase)\n\n    # Display the sine wave\n    plt.figure(figsize=(10, 4))\n    plt.plot(t, sine_wave)\n    plt.title('Sine Wave')\n    plt.xlabel('Time [s]')\n    plt.ylabel('Amplitude')\n    plt.grid(True)\n    plt.show()\n\n# Test the function\ndisplay_sine_wave()",
      "outputs": []
    }
  ]
}